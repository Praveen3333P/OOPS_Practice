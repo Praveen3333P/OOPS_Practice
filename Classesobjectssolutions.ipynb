{
 "cells": [
  {
   "cell_type": "markdown",
   "metadata": {},
   "source": [
    "###Assignment 1"
   ]
  },
  {
   "cell_type": "code",
   "execution_count": null,
   "metadata": {},
   "outputs": [],
   "source": [
    "class Car:\n",
    "    def __init__(self,make:str, model:str,year:int):\n",
    "        self.make = make\n",
    "        self.model = model\n",
    "        self.year = year\n",
    "\n",
    "car1= Car(\"bmw\", \"M-series\", 2024)\n"
   ]
  },
  {
   "cell_type": "code",
   "execution_count": 2,
   "metadata": {},
   "outputs": [
    {
     "name": "stdout",
     "output_type": "stream",
     "text": [
      "bmw\n",
      "M-series\n",
      "2024\n"
     ]
    }
   ],
   "source": [
    "print(car1.make)\n",
    "print(car1.model)\n",
    "print(car1.year)"
   ]
  },
  {
   "cell_type": "markdown",
   "metadata": {},
   "source": [
    "###Assignment 2"
   ]
  },
  {
   "cell_type": "code",
   "execution_count": 10,
   "metadata": {},
   "outputs": [],
   "source": [
    "class Car:\n",
    "    def __init__(self,make, model,year):\n",
    "        self.make = make\n",
    "        self.model = model\n",
    "        self.year = year\n",
    "\n",
    "\n",
    "    def start_engine(self):\n",
    "        print(\"Engine Started\")\n",
    "\n",
    "car1= Car(\"bmw\", \"M-series\", 2024)"
   ]
  },
  {
   "cell_type": "code",
   "execution_count": 12,
   "metadata": {},
   "outputs": [
    {
     "name": "stdout",
     "output_type": "stream",
     "text": [
      "Engine Started\n"
     ]
    }
   ],
   "source": [
    "car1.start_engine()"
   ]
  },
  {
   "cell_type": "markdown",
   "metadata": {},
   "source": [
    "###Assignment 3\n"
   ]
  },
  {
   "cell_type": "code",
   "execution_count": 13,
   "metadata": {},
   "outputs": [],
   "source": [
    "class Student:\n",
    "    def __init__(self, name:str, age:int):\n",
    "        self.name = name\n",
    "        self.age = age\n",
    "\n",
    "student1 = Student(\"Praveen\",22)"
   ]
  },
  {
   "cell_type": "code",
   "execution_count": 15,
   "metadata": {},
   "outputs": [
    {
     "name": "stdout",
     "output_type": "stream",
     "text": [
      "Praveen\n",
      "22\n"
     ]
    }
   ],
   "source": [
    "print(student1.name)\n",
    "print(student1.age)"
   ]
  },
  {
   "cell_type": "markdown",
   "metadata": {},
   "source": [
    "Assignment 4\n"
   ]
  },
  {
   "cell_type": "code",
   "execution_count": 22,
   "metadata": {},
   "outputs": [],
   "source": [
    "class BankAccount:\n",
    "    def __init__(self,account_number:int,balance:int):\n",
    "        self.__account_number = account_number\n",
    "        self.__balance = balance\n",
    "\n",
    "    def set_balance(self,amount:int):\n",
    "        if amount >0:\n",
    "            self.__balance = amount\n",
    "        else:\n",
    "            return f\"{amount} can't be set as amount\"\n",
    "    def get_balance(self):\n",
    "        return self.__balance\n",
    "\n",
    "\n",
    "    def deposit(self,amount:int):\n",
    "        self.__balance += amount\n",
    "        return f\"Amount has been added!! {self.__balance}  is your updated balance\"\n",
    "    \n",
    "    def withdraw(self,amount:int):\n",
    "        if amount <= 0:\n",
    "            return \"Negative amount cant be withdrawn\"\n",
    "        elif self.__balance > amount:\n",
    "            self.__balance -= amount\n",
    "            return f\"{amount} has been debited!! {self.__balance} is your updated balance\"\n",
    "        else:\n",
    "            return \"Insufficient Funds\"\n",
    "        \n",
    "\n",
    "    def check_balance(self):\n",
    "        return self.get_balance()"
   ]
  },
  {
   "cell_type": "code",
   "execution_count": 23,
   "metadata": {},
   "outputs": [
    {
     "name": "stdout",
     "output_type": "stream",
     "text": [
      "Amount has been added!! 1500  is your updated balance\n",
      "1500\n",
      "600 has been debited!! 900 is your updated balance\n",
      "900\n"
     ]
    }
   ],
   "source": [
    "acc1 = BankAccount(1234567891,1000)\n",
    "\n",
    "print(acc1.deposit(500))\n",
    "print(acc1.check_balance())\n",
    "print(acc1.withdraw(600))\n",
    "print(acc1.check_balance())"
   ]
  },
  {
   "cell_type": "markdown",
   "metadata": {},
   "source": [
    "###Assignment 5\n"
   ]
  },
  {
   "cell_type": "code",
   "execution_count": null,
   "metadata": {},
   "outputs": [],
   "source": [
    "class Person:\n",
    "    def __init__(self,name:str,age:int):\n",
    "        self.name = name\n",
    "        self.age = age\n",
    "\n",
    "class Employee(Person):\n",
    "    def __init__(self,name:str,age:int,employee_id:str):\n",
    "        super().__init__(name,age)\n",
    "        self.employee_id = employee_id\n",
    "\n",
    "\n",
    "employee1 = Employee(\"Srujan\",22,1)\n",
    "\n"
   ]
  },
  {
   "cell_type": "code",
   "execution_count": 28,
   "metadata": {},
   "outputs": [
    {
     "name": "stdout",
     "output_type": "stream",
     "text": [
      "Srujan\n",
      "22\n",
      "1\n"
     ]
    }
   ],
   "source": [
    "print(employee1.name)\n",
    "print(employee1.age)\n",
    "print(employee1.employee_id)"
   ]
  },
  {
   "cell_type": "markdown",
   "metadata": {},
   "source": [
    "###Assignment 6\n"
   ]
  },
  {
   "cell_type": "code",
   "execution_count": 35,
   "metadata": {},
   "outputs": [],
   "source": [
    "class Person:\n",
    "    def __init__(self,name:str,age:int):\n",
    "        self.name = name\n",
    "        self.age = age\n",
    "\n",
    "class Employee(Person):\n",
    "    def __init__(self,name:str,age:int,employee_id:str):\n",
    "        super().__init__(name,age)\n",
    "        self.employee_id = employee_id\n",
    "\n",
    "    def __str__(self):\n",
    "        return f\"Employee name is {self.name},his age is {self.age} and his emp id is {self.employee_id}\"\n",
    "\n",
    "\n",
    "employee1 = Employee(\"Srujan\",22,1)\n",
    "\n",
    "\n"
   ]
  },
  {
   "cell_type": "code",
   "execution_count": 36,
   "metadata": {},
   "outputs": [
    {
     "name": "stdout",
     "output_type": "stream",
     "text": [
      "Employee name is Srujan,his age is 22 and his emp id is 1\n"
     ]
    }
   ],
   "source": [
    "print(employee1)"
   ]
  },
  {
   "cell_type": "markdown",
   "metadata": {},
   "source": [
    "###Assignment 7"
   ]
  },
  {
   "cell_type": "code",
   "execution_count": null,
   "metadata": {},
   "outputs": [],
   "source": [
    "class Address:\n",
    "    def __init__(self,street:str,city:str,zipcode:str):\n",
    "        self.street = street\n",
    "        self.city = city\n",
    "        self.zipcode = zipcode\n",
    "\n",
    "class Person():\n",
    "    def __init__(self,name, address:Address):\n",
    "        self.name = name\n",
    "        self.address = address\n",
    "\n",
    "\n",
    "address1 = Address(\"street1\", \"city1\", \"zipcode1\")\n",
    "person1 = Person(\"Praveen\",address1)\n"
   ]
  },
  {
   "cell_type": "code",
   "execution_count": 38,
   "metadata": {},
   "outputs": [
    {
     "name": "stdout",
     "output_type": "stream",
     "text": [
      "Praveen\n",
      "street1\n",
      "city1\n",
      "zipcode1\n"
     ]
    }
   ],
   "source": [
    "print(person1.name)\n",
    "print(person1.address.street)\n",
    "print(person1.address.city)\n",
    "print(person1.address.zipcode)"
   ]
  },
  {
   "cell_type": "markdown",
   "metadata": {},
   "source": [
    "###Assignment 8\n"
   ]
  },
  {
   "cell_type": "code",
   "execution_count": 45,
   "metadata": {},
   "outputs": [
    {
     "name": "stdout",
     "output_type": "stream",
     "text": [
      "4\n",
      "4\n"
     ]
    }
   ],
   "source": [
    "class Counter:\n",
    "    count = 0\n",
    "\n",
    "    def __init__(self):\n",
    "        Counter.count += 1\n",
    "\n",
    "    @classmethod    ##this is used to when we need access to class\n",
    "    def get_count(cls):\n",
    "        return cls.count\n",
    "    \n",
    "counter1 = Counter()\n",
    "counter2 = Counter()\n",
    "counter3 = Counter()\n",
    "counter4 = Counter()\n",
    "\n",
    "print(counter3.get_count())\n",
    "print(Counter.count)\n",
    "        "
   ]
  },
  {
   "cell_type": "markdown",
   "metadata": {},
   "source": [
    "###Assignment 9\n"
   ]
  },
  {
   "cell_type": "code",
   "execution_count": 50,
   "metadata": {},
   "outputs": [
    {
     "name": "stdout",
     "output_type": "stream",
     "text": [
      "5.0\n"
     ]
    }
   ],
   "source": [
    "class MathOperations:\n",
    "    @staticmethod  ##use directly\n",
    "    def square_root(num:int):\n",
    "        return num ** (1/2)\n",
    "    \n",
    "\n",
    "res  = MathOperations.square_root(25)\n",
    "print(res)\n",
    "    \n"
   ]
  },
  {
   "cell_type": "markdown",
   "metadata": {},
   "source": [
    "###Assignment 10\n"
   ]
  },
  {
   "cell_type": "code",
   "execution_count": 58,
   "metadata": {},
   "outputs": [
    {
     "name": "stdout",
     "output_type": "stream",
     "text": [
      "3 5\n",
      "4 6\n"
     ]
    }
   ],
   "source": [
    "class Rectangle:\n",
    "    def __init__(self,length, width):\n",
    "        self.__length = length\n",
    "        self.__width = width\n",
    "\n",
    "    def set_length(self,l1):\n",
    "        self.__length = l1\n",
    "\n",
    "    def get_length(self):\n",
    "        return self.__length\n",
    "    \n",
    "    def set_width(self,l2):\n",
    "        self.__width = l2\n",
    "\n",
    "    def get_width(self):\n",
    "        return self.__width\n",
    "    \n",
    "\n",
    "rect1 = Rectangle(3,5)\n",
    "print(rect1.get_length(),rect1.get_width())\n",
    "\n",
    "rect1.set_length(4)\n",
    "rect1.set_width(6)\n",
    "print(rect1.get_length(),rect1.get_width())\n",
    "    \n",
    "\n"
   ]
  },
  {
   "cell_type": "markdown",
   "metadata": {},
   "source": [
    "###Assignment 11"
   ]
  },
  {
   "cell_type": "code",
   "execution_count": 62,
   "metadata": {},
   "outputs": [
    {
     "name": "stdout",
     "output_type": "stream",
     "text": [
      "50.24\n",
      "25\n"
     ]
    }
   ],
   "source": [
    "from abc import ABC, abstractmethod\n",
    "\n",
    "class Shape(ABC):\n",
    "    @abstractmethod\n",
    "    def area(self):\n",
    "        pass\n",
    "\n",
    "class Circle(Shape):\n",
    "    def area(self,r):\n",
    "        return 3.14 * r * r\n",
    "    \n",
    "class Square(Shape):\n",
    "    def __init__(self,s):\n",
    "        self.s = s\n",
    "    def area(self):\n",
    "        return self.s*self.s\n",
    "\n",
    "\n",
    "circle1 = Circle()\n",
    "print(circle1.area(4))\n",
    "square1 = Square(5)\n",
    "print(square1.area())"
   ]
  },
  {
   "cell_type": "markdown",
   "metadata": {},
   "source": [
    "###Assignment 12\n"
   ]
  },
  {
   "cell_type": "code",
   "execution_count": 64,
   "metadata": {},
   "outputs": [
    {
     "name": "stdout",
     "output_type": "stream",
     "text": [
      "2 , 3\n",
      "3 , 4\n",
      "Two vectors were added, result vector: 5, 7\n"
     ]
    }
   ],
   "source": [
    "class Vector:\n",
    "    def __init__(self,x,y):\n",
    "        self.x = x\n",
    "        self.y = y\n",
    "\n",
    "    def add(self,vector2):\n",
    "        return f\"Two vectors were added, result vector: {self.x + vector2.x}, {self.y + vector2.y}\"\n",
    "    \n",
    "\n",
    "vect1 = Vector(2,3)\n",
    "print(vect1.x,\",\", vect1.y)\n",
    "vect2 = Vector(3,4)\n",
    "print(vect2.x,\",\", vect2.y)\n",
    "\n",
    "vect3 = vect1.add(vect2)\n",
    "print(vect3)\n",
    "    "
   ]
  },
  {
   "cell_type": "markdown",
   "metadata": {},
   "source": [
    "###Assignement 13\n"
   ]
  },
  {
   "cell_type": "code",
   "execution_count": 68,
   "metadata": {},
   "outputs": [],
   "source": [
    "class InsufficentBalanceError(Exception):\n",
    "    def __init__(self, message=\"Insufficient Balance\"):\n",
    "        self.message = message\n",
    "        super().__init__(message)\n",
    "\n",
    "class BankAccount:\n",
    "    def __init__(self,balance):\n",
    "        self.balance = balance\n",
    "    \n",
    "    def withdraw(self,amount):\n",
    "        try:\n",
    "            if amount > self.balance:\n",
    "                raise InsufficentBalanceError()\n",
    "            \n",
    "            else:\n",
    "                self.balance -= amount\n",
    "\n",
    "        except InsufficentBalanceError as e:\n",
    "            return f\"Error: {e}\""
   ]
  },
  {
   "cell_type": "code",
   "execution_count": 70,
   "metadata": {},
   "outputs": [
    {
     "name": "stdout",
     "output_type": "stream",
     "text": [
      "500\n"
     ]
    }
   ],
   "source": [
    "acc1 = BankAccount(1000)\n",
    "acc1.withdraw(500)\n",
    "print(acc1.balance)"
   ]
  },
  {
   "cell_type": "code",
   "execution_count": 71,
   "metadata": {},
   "outputs": [
    {
     "data": {
      "text/plain": [
       "'Error: Insufficient Balance'"
      ]
     },
     "execution_count": 71,
     "metadata": {},
     "output_type": "execute_result"
    }
   ],
   "source": [
    "acc1.withdraw(600)\n"
   ]
  },
  {
   "cell_type": "markdown",
   "metadata": {},
   "source": [
    "###Assignment 14\n"
   ]
  },
  {
   "cell_type": "code",
   "execution_count": 83,
   "metadata": {},
   "outputs": [
    {
     "name": "stdout",
     "output_type": "stream",
     "text": [
      "Opening File sample.txt\n",
      "Content in the file is: \n",
      "This is a sample text\n",
      "This is 2nd line of sample text\n",
      "Closing File sample.txt\n"
     ]
    }
   ],
   "source": [
    "class FileManager:\n",
    "    def __init__(self,file,mode):\n",
    "        self.file = file\n",
    "        self.mode = mode\n",
    "\n",
    "    def __enter__(self):\n",
    "        print(f\"Opening File {self.file}\")\n",
    "        self.file = open(self.file, self.mode)\n",
    "        return self.file\n",
    "\n",
    "    def __exit__(self,exc_type, exc_value,traceback):\n",
    "        print(f\"Closing File {self.file.name}\")\n",
    "        self.file.close()\n",
    "\n",
    "\n",
    "with open(\"sample.txt\", \"w\") as file:\n",
    "    file.write(\"This is a sample text\\nThis is 2nd line of sample text\")\n",
    "\n",
    "with FileManager(\"sample.txt\",\"r\") as file:\n",
    "    content = file.read()\n",
    "    print(f\"Content in the file is: \\n{content}\")\n",
    "\n",
    "\n"
   ]
  },
  {
   "cell_type": "markdown",
   "metadata": {},
   "source": [
    "###Assignment 15"
   ]
  },
  {
   "cell_type": "code",
   "execution_count": 88,
   "metadata": {},
   "outputs": [
    {
     "name": "stdout",
     "output_type": "stream",
     "text": [
      "Result:5.0\n"
     ]
    },
    {
     "data": {
      "text/plain": [
       "<__main__.Calculator at 0x199e317e250>"
      ]
     },
     "execution_count": 88,
     "metadata": {},
     "output_type": "execute_result"
    }
   ],
   "source": [
    "class Calculator:\n",
    "    def __init__(self, value=0):\n",
    "        self.value = 0\n",
    "    \n",
    "    def add(self,num):\n",
    "        self.value += num\n",
    "        return self\n",
    "    \n",
    "    def subtract(self,num):\n",
    "        self.value -= num\n",
    "        return self\n",
    "    \n",
    "    def multiply(self,num):\n",
    "        self.value *= num\n",
    "        return self\n",
    "    \n",
    "    def divide(self,num):\n",
    "        self.value /= num\n",
    "        return self\n",
    "    \n",
    "    def display(self):\n",
    "        print(f\"Result:{self.value}\")\n",
    "        return self\n",
    "    \n",
    "\n",
    "calc = Calculator()\n",
    "calc.add(10).subtract(5).multiply(5).divide(5).display()"
   ]
  }
 ],
 "metadata": {
  "kernelspec": {
   "display_name": "Python 3",
   "language": "python",
   "name": "python3"
  },
  "language_info": {
   "codemirror_mode": {
    "name": "ipython",
    "version": 3
   },
   "file_extension": ".py",
   "mimetype": "text/x-python",
   "name": "python",
   "nbconvert_exporter": "python",
   "pygments_lexer": "ipython3",
   "version": "3.11.4"
  }
 },
 "nbformat": 4,
 "nbformat_minor": 2
}
