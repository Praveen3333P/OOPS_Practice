{
 "cells": [
  {
   "cell_type": "markdown",
   "metadata": {},
   "source": [
    "###Assignment 1\n"
   ]
  },
  {
   "cell_type": "code",
   "execution_count": 1,
   "metadata": {},
   "outputs": [
    {
     "name": "stdout",
     "output_type": "stream",
     "text": [
      "Max\n",
      "animal\n",
      "Shizu\n"
     ]
    }
   ],
   "source": [
    "class Animal:\n",
    "    def __init__(self,name,species):\n",
    "        self.name = name\n",
    "        self.species = species\n",
    "\n",
    "class Dog(Animal):\n",
    "    def __init__(self,name:str,species:str,breed:str):\n",
    "        super().__init__(name,species)\n",
    "        self.breed = breed\n",
    "\n",
    "dog1 = Dog(\"Max\",\"animal\",\"Shizu\")\n",
    "\n",
    "print(dog1.name)\n",
    "print(dog1.species)\n",
    "print(dog1.breed)\n"
   ]
  },
  {
   "cell_type": "markdown",
   "metadata": {},
   "source": [
    "###Assignment 2"
   ]
  },
  {
   "cell_type": "code",
   "execution_count": 2,
   "metadata": {},
   "outputs": [
    {
     "name": "stdout",
     "output_type": "stream",
     "text": [
      "Dog Name is Max and speicies is animal and breed is Shizu\n"
     ]
    }
   ],
   "source": [
    "class Animal:\n",
    "    def __init__(self,name,species):\n",
    "        self.name = name\n",
    "        self.species = species\n",
    "\n",
    "class Dog(Animal):\n",
    "    def __init__(self,name:str,species:str,breed:str):\n",
    "        super().__init__(name,species)\n",
    "        self.breed = breed\n",
    "\n",
    "    def __str__(self):\n",
    "        return f\"Dog Name is {self.name} and speicies is {self.species} and breed is {self.breed}\"\n",
    "    \n",
    "\n",
    "dog1 = Dog(\"Max\",\"animal\",\"Shizu\")\n",
    "\n",
    "print(dog1)"
   ]
  },
  {
   "cell_type": "markdown",
   "metadata": {},
   "source": [
    "###Assignment 3\n"
   ]
  },
  {
   "cell_type": "code",
   "execution_count": 3,
   "metadata": {},
   "outputs": [
    {
     "name": "stdout",
     "output_type": "stream",
     "text": [
      "Dog is barking\n"
     ]
    }
   ],
   "source": [
    "class Animal:\n",
    "    def __init__(self,name,species):\n",
    "        self.name = name\n",
    "        self.species = species\n",
    "\n",
    "class Dog(Animal):\n",
    "    def __init__(self,name:str,species:str,breed:str):\n",
    "        super().__init__(name,species)\n",
    "        self.breed = breed\n",
    "\n",
    "    def bark(self):\n",
    "        return \"Dog is barking\"\n",
    "\n",
    "\n",
    "    def __str__(self):\n",
    "        return f\"Dog Name is {self.name} and speicies is {self.species} and breed is {self.breed}\"\n",
    "    \n",
    "\n",
    "dog1 = Dog(\"Max\",\"animal\",\"Shizu\")\n",
    "\n",
    "print(dog1.bark())"
   ]
  },
  {
   "cell_type": "markdown",
   "metadata": {},
   "source": [
    "###Assignment 4"
   ]
  },
  {
   "cell_type": "code",
   "execution_count": 4,
   "metadata": {},
   "outputs": [
    {
     "name": "stdout",
     "output_type": "stream",
     "text": [
      "They are Walking\n",
      "They are running\n"
     ]
    }
   ],
   "source": [
    "class Walker:\n",
    "    def walk(self):\n",
    "        return \"They are Walking\"\n",
    "    \n",
    "class Runner:\n",
    "    def run(self):\n",
    "        return \"They are running\"\n",
    "    \n",
    "class Athlete(Walker,Runner):\n",
    "    pass\n",
    "\n",
    "per1 = Athlete()\n",
    "\n",
    "print(per1.walk())\n",
    "print(per1.run())"
   ]
  },
  {
   "cell_type": "markdown",
   "metadata": {},
   "source": [
    "###Assignment 5\n"
   ]
  },
  {
   "cell_type": "code",
   "execution_count": 7,
   "metadata": {},
   "outputs": [
    {
     "name": "stdout",
     "output_type": "stream",
     "text": [
      "He is walking and They are Walking\n",
      "They are running\n"
     ]
    }
   ],
   "source": [
    "class Walker:\n",
    "    def walk(self):\n",
    "        return \"They are Walking\"\n",
    "    \n",
    "class Runner:\n",
    "    def run(self):\n",
    "        return \"They are running\"\n",
    "    \n",
    "class Athlete(Walker,Runner):\n",
    "    def __init__(self):\n",
    "        super().__init__()\n",
    "    def walk(self):\n",
    "        parent_walk = super().walk()\n",
    "        return f\"He is walking and {parent_walk}\"\n",
    "\n",
    "per1 = Athlete()\n",
    "\n",
    "print(per1.walk())\n",
    "print(per1.run())"
   ]
  },
  {
   "cell_type": "markdown",
   "metadata": {},
   "source": [
    "##Assignment 6\n"
   ]
  },
  {
   "cell_type": "code",
   "execution_count": 8,
   "metadata": {},
   "outputs": [
    {
     "name": "stdout",
     "output_type": "stream",
     "text": [
      "20\n"
     ]
    }
   ],
   "source": [
    "class Walker:\n",
    "    def walk(self):\n",
    "        return \"They are Walking\"\n",
    "    \n",
    "class Runner:\n",
    "    def run(self):\n",
    "        return \"They are running\"\n",
    "    \n",
    "class Athlete(Walker,Runner):\n",
    "    def __init__(self,training_hours:int):\n",
    "        super().__init__()\n",
    "        self.training_hours = training_hours\n",
    "    def walk(self):\n",
    "        parent_walk = super().walk()\n",
    "        return f\"He is walking and {parent_walk}\"\n",
    "    \n",
    "    def train(self):\n",
    "        return self.training_hours\n",
    "\n",
    "per1 = Athlete(20)\n",
    "\n",
    "print(per1.training_hours)\n"
   ]
  },
  {
   "cell_type": "markdown",
   "metadata": {},
   "source": [
    "###Assignment 7"
   ]
  },
  {
   "cell_type": "code",
   "execution_count": 10,
   "metadata": {},
   "outputs": [
    {
     "data": {
      "text/plain": [
       "'Class C is printing a message'"
      ]
     },
     "execution_count": 10,
     "metadata": {},
     "output_type": "execute_result"
    }
   ],
   "source": [
    "class A:\n",
    "    def show():\n",
    "        return \"printing a message\"\n",
    "    \n",
    "class B(A):\n",
    "    def show(self):\n",
    "        return \"Class B is printing a message\"\n",
    "\n",
    "\n",
    "class C(A):\n",
    "    def show(self):\n",
    "        return \"Class C is printing a message\"\n",
    "    \n",
    "class D(C,B):\n",
    "    pass\n",
    "\n",
    "\n",
    "obj1 = D()\n",
    "\n",
    "obj1.show()\n",
    "\n"
   ]
  },
  {
   "cell_type": "markdown",
   "metadata": {},
   "source": [
    "###Assignment 8\n"
   ]
  },
  {
   "cell_type": "code",
   "execution_count": 19,
   "metadata": {},
   "outputs": [
    {
     "name": "stdout",
     "output_type": "stream",
     "text": [
      "blue\n"
     ]
    }
   ],
   "source": [
    "class Shape:\n",
    "    def __init__(self,color):\n",
    "        self.color = color\n",
    "\n",
    "\n",
    "class Circle(Shape):\n",
    "    def __init__(self,radius,color):\n",
    "        super().__init__(color)\n",
    "        self.radius = radius\n",
    "\n",
    "cir1 = Circle(4,\"blue\")\n",
    "print(cir1.color)"
   ]
  },
  {
   "cell_type": "markdown",
   "metadata": {},
   "source": [
    "### Assignment 9"
   ]
  },
  {
   "cell_type": "code",
   "execution_count": 26,
   "metadata": {},
   "outputs": [
    {
     "name": "stdout",
     "output_type": "stream",
     "text": [
      "Srujan\n",
      "1\n"
     ]
    }
   ],
   "source": [
    "class Person:\n",
    "    def __init__(self,name):\n",
    "        self.name = name\n",
    "\n",
    "class Employee:\n",
    "    def __init__(self,employee_id):\n",
    "        self.employee_id = employee_id\n",
    "\n",
    "class Manager(Person,Employee):\n",
    "    def __init__(self,name, employee_id):\n",
    "        super().__init__(name)\n",
    "        Employee.__init__(self,employee_id)\n",
    "\n",
    "emp1 = Manager(\"Srujan\",1)\n",
    "print(emp1.name)\n",
    "print(emp1.employee_id)"
   ]
  },
  {
   "cell_type": "markdown",
   "metadata": {},
   "source": [
    "### Assignment 10"
   ]
  },
  {
   "cell_type": "code",
   "execution_count": 28,
   "metadata": {},
   "outputs": [
    {
     "data": {
      "text/plain": [
       "'Car Started'"
      ]
     },
     "execution_count": 28,
     "metadata": {},
     "output_type": "execute_result"
    }
   ],
   "source": [
    "class Vehicle:\n",
    "    def start(self):\n",
    "        return \"Vehicle started\"\n",
    "    \n",
    "class Car(Vehicle):\n",
    "    def start(self):\n",
    "        super().start()\n",
    "        return \"Car Started\"\n",
    "    \n",
    "\n",
    "car1 = Car()\n",
    "car1.start()\n",
    "    \n",
    "    \n"
   ]
  },
  {
   "cell_type": "markdown",
   "metadata": {},
   "source": [
    "###Assignment 12\n"
   ]
  },
  {
   "cell_type": "code",
   "execution_count": 33,
   "metadata": {},
   "outputs": [
    {
     "name": "stdout",
     "output_type": "stream",
     "text": [
      "1\n",
      "2\n",
      "3\n"
     ]
    }
   ],
   "source": [
    "class Base1:\n",
    "    def __init__(self,a,**kwargs):\n",
    "        super().__init__(**kwargs)\n",
    "        self.a  = a\n",
    "class Base2:\n",
    "    def __init__(self,b,**kwargs):\n",
    "        super().__init__(**kwargs)\n",
    "        self.b = b\n",
    "\n",
    "class Derived(Base1,Base2):\n",
    "    def __init__(self,a,b,c):\n",
    "        super().__init__(a=a,b=b)\n",
    "        # Base2.__init__(self,b)\n",
    "        self.c = c\n",
    "\n",
    "obj1 = Derived(1,2,3)\n",
    "print(obj1.a)\n",
    "print(obj1.b)\n",
    "print(obj1.c)"
   ]
  },
  {
   "cell_type": "markdown",
   "metadata": {},
   "source": [
    "###assignment 13\n"
   ]
  },
  {
   "cell_type": "code",
   "execution_count": 42,
   "metadata": {},
   "outputs": [
    {
     "name": "stdout",
     "output_type": "stream",
     "text": [
      "True\n",
      "True\n",
      "True\n",
      "False\n"
     ]
    }
   ],
   "source": [
    "class Animal:\n",
    "    pass\n",
    "\n",
    "class Cat(Animal):\n",
    "    pass\n",
    "\n",
    "animal = Animal()\n",
    "cat = Cat()\n",
    "\n",
    "print(isinstance(cat,Cat))\n",
    "print(isinstance(animal,Animal))\n",
    "print(isinstance(cat,Animal))\n",
    "print(isinstance(animal,Cat))"
   ]
  },
  {
   "cell_type": "markdown",
   "metadata": {},
   "source": [
    "### Assignment 14"
   ]
  },
  {
   "cell_type": "code",
   "execution_count": 47,
   "metadata": {},
   "outputs": [
    {
     "name": "stdout",
     "output_type": "stream",
     "text": [
      "Penguin is speaking\n",
      "Parrot is speaking\n",
      "Bird SPeaks\n"
     ]
    }
   ],
   "source": [
    "class Bird:\n",
    "    def speak(self):\n",
    "        return \"Bird SPeaks\"\n",
    "    \n",
    "class Parrot(Bird):\n",
    "    def speak(self):\n",
    "        return \"Parrot is speaking\"\n",
    "    \n",
    "class Penguin(Bird):\n",
    "    def speak(self):\n",
    "        return \"Penguin is speaking\"\n",
    "    \n",
    "obj_List:list[Bird] = [Penguin(),Parrot(),Bird()]\n",
    "\n",
    "print(obj_List[0].speak())\n",
    "print(obj_List[1].speak())\n",
    "print(obj_List[2].speak())"
   ]
  },
  {
   "cell_type": "markdown",
   "metadata": {},
   "source": [
    "## Assignment 15\n"
   ]
  },
  {
   "cell_type": "code",
   "execution_count": 48,
   "metadata": {},
   "outputs": [
    {
     "name": "stdout",
     "output_type": "stream",
     "text": [
      "apple\n",
      "17 pro max\n",
      "64MP\n"
     ]
    }
   ],
   "source": [
    "class Device:\n",
    "    def __init__(self,brand):\n",
    "        self.brand = brand\n",
    "\n",
    "class Phone(Device):\n",
    "    def __init__(self,brand,model):\n",
    "        super().__init__(brand)\n",
    "        self.model = model\n",
    "\n",
    "class Camera:\n",
    "    def __init__(self,resolution):\n",
    "        self.resolution = resolution\n",
    "    \n",
    "class SmartPhone(Phone,Camera):\n",
    "    def __init__(self, brand, model,resolution):\n",
    "        super().__init__(brand, model)\n",
    "        Camera.__init__(self,resolution)\n",
    "\n",
    "smp = SmartPhone(\"apple\",\"17 pro max\", \"64MP\")\n",
    "\n",
    "print(smp.brand)\n",
    "print(smp.model)\n",
    "print(smp.resolution)"
   ]
  }
 ],
 "metadata": {
  "kernelspec": {
   "display_name": "Python 3",
   "language": "python",
   "name": "python3"
  },
  "language_info": {
   "codemirror_mode": {
    "name": "ipython",
    "version": 3
   },
   "file_extension": ".py",
   "mimetype": "text/x-python",
   "name": "python",
   "nbconvert_exporter": "python",
   "pygments_lexer": "ipython3",
   "version": "3.11.4"
  }
 },
 "nbformat": 4,
 "nbformat_minor": 2
}
