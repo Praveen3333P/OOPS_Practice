{
 "cells": [
  {
   "cell_type": "markdown",
   "metadata": {},
   "source": [
    "##assignment 1"
   ]
  },
  {
   "cell_type": "code",
   "execution_count": null,
   "metadata": {},
   "outputs": [
    {
     "data": {
      "text/plain": [
       "16"
      ]
     },
     "execution_count": 3,
     "metadata": {},
     "output_type": "execute_result"
    }
   ],
   "source": [
    "class Shape:\n",
    "    def area(self):\n",
    "        pass\n",
    "\n",
    "class Circle(Shape):\n",
    "    def __init__(self,r):\n",
    "        self.r = r\n",
    "    def area(self):\n",
    "        return 3.14 * self.r*self.r\n",
    "    \n",
    "class Square(Shape):\n",
    "    def __init__(self,s):\n",
    "        self.s = s\n",
    "    def area(self):\n",
    "        return self.s*self.s\n",
    "    \n",
    "cir = Circle(4)\n",
    "cir.area()\n",
    "sq = Square(4)\n",
    "sq.area()\n"
   ]
  },
  {
   "cell_type": "markdown",
   "metadata": {},
   "source": [
    "## 2"
   ]
  },
  {
   "cell_type": "code",
   "execution_count": 4,
   "metadata": {},
   "outputs": [
    {
     "data": {
      "text/plain": [
       "50.24"
      ]
     },
     "execution_count": 4,
     "metadata": {},
     "output_type": "execute_result"
    }
   ],
   "source": [
    "def describe_shape(shape):\n",
    "    return shape.area()\n",
    "\n",
    "describe_shape(cir)\n"
   ]
  },
  {
   "cell_type": "markdown",
   "metadata": {},
   "source": [
    "## 3"
   ]
  },
  {
   "cell_type": "code",
   "execution_count": null,
   "metadata": {},
   "outputs": [
    {
     "name": "stdout",
     "output_type": "stream",
     "text": [
      "Car Engine started\n",
      "bike engine started\n"
     ]
    }
   ],
   "source": [
    "from abc import ABC, abstractmethod\n",
    "\n",
    "class Vehicle(ABC):\n",
    "    @abstractmethod\n",
    "    def start_engine(self):\n",
    "        pass\n",
    "\n",
    "class Car(Vehicle):\n",
    "    def start_engine(self):\n",
    "        return \"Car Engine started\"\n",
    "    \n",
    "class Bike(Vehicle):\n",
    "    def start_engine(self):\n",
    "        return \"bike engine started\"\n",
    "\n",
    "car1 = Car()\n",
    "bike1 = Bike()\n",
    "print(car1.start_engine())\n",
    "print(bike1.start_engine())\n",
    "\n"
   ]
  },
  {
   "cell_type": "markdown",
   "metadata": {},
   "source": [
    "## 4"
   ]
  },
  {
   "cell_type": "code",
   "execution_count": null,
   "metadata": {},
   "outputs": [
    {
     "name": "stdout",
     "output_type": "stream",
     "text": [
      "Car Engine started\n",
      "bike engine started\n",
      "Fuel type is Petrol\n",
      "Fuel type is Electric\n"
     ]
    }
   ],
   "source": [
    "from abc import ABC, abstractmethod\n",
    "\n",
    "class Vehicle(ABC):\n",
    "    @abstractmethod\n",
    "    def start_engine(self):\n",
    "        pass\n",
    "\n",
    "    def fuel_type(self):\n",
    "        return \"Fuel type is Generic\"\n",
    "\n",
    "class Car(Vehicle):\n",
    "    def start_engine(self):\n",
    "        return \"Car Engine started\"\n",
    "    \n",
    "    def fuel_type(self):\n",
    "        return \"Fuel type is Petrol\"\n",
    "    \n",
    "class Bike(Vehicle):\n",
    "    def start_engine(self):\n",
    "        return \"bike engine started\"\n",
    "    \n",
    "    def fuel_type(self):\n",
    "        return \"Fuel type is Electric\"\n",
    "\n",
    "car1 = Car()\n",
    "bike1 = Bike()\n",
    "print(car1.start_engine())\n",
    "print(bike1.start_engine())\n",
    "print(car1.fuel_type())\n",
    "print(bike1.fuel_type())\n",
    "\n"
   ]
  },
  {
   "cell_type": "markdown",
   "metadata": {},
   "source": [
    "## 5,6"
   ]
  },
  {
   "cell_type": "code",
   "execution_count": null,
   "metadata": {},
   "outputs": [],
   "source": [
    "class BankAccount:\n",
    "    def __init__(self,account_number:int,balance:int):\n",
    "        self.__account_number = account_number\n",
    "        self.__balance = balance\n",
    "\n",
    "    def set_balance(self,amount:int):\n",
    "        if amount >0:\n",
    "            self.__balance = amount\n",
    "        else:\n",
    "            return f\"{amount} can't be set as amount\"\n",
    "    def get_balance(self):\n",
    "        return self.__balance\n",
    "\n",
    "\n",
    "    def deposit(self,amount:int):\n",
    "        self.__balance += amount\n",
    "        return f\"Amount has been added!! {self.__balance}  is your updated balance\"\n",
    "    \n",
    "    def withdraw(self,amount:int):\n",
    "        if amount <= 0:\n",
    "            return \"Negative amount cant be withdrawn\"\n",
    "        elif self.__balance > amount:\n",
    "            self.__balance -= amount\n",
    "            return f\"{amount} has been debited!! {self.__balance} is your updated balance\"\n",
    "        else:\n",
    "            return \"Insufficient Funds\"\n",
    "        \n",
    "\n",
    "    def check_balance(self):\n",
    "        return self.get_balance()"
   ]
  },
  {
   "cell_type": "markdown",
   "metadata": {},
   "source": [
    "## 7"
   ]
  },
  {
   "cell_type": "code",
   "execution_count": 9,
   "metadata": {},
   "outputs": [
    {
     "name": "stdout",
     "output_type": "stream",
     "text": [
      "None\n",
      "None\n",
      "P Praveen\n",
      "23\n"
     ]
    }
   ],
   "source": [
    "class Person:\n",
    "    def __init__(self,name,age):\n",
    "        self.__name = name \n",
    "        self.__age = age\n",
    "\n",
    "    def set_name(self,name):\n",
    "        self.__name = name\n",
    "    def get_name(self):\n",
    "        return self.__name\n",
    "    def set_age(self,age):\n",
    "        self.__age = age\n",
    "    def get_age(self):\n",
    "        return self.__age\n",
    "    \n",
    "class Student(Person):\n",
    "    def __init__(self, name, age, student_id):\n",
    "        super().__init__(name, age)\n",
    "        self.studen_id = student_id\n",
    "\n",
    "\n",
    "st1 = Student(\"Praveen\",22,1)\n",
    "\n",
    "print(st1.set_age(23))\n",
    "print(st1.set_name(\"P Praveen\"))\n",
    "print(st1.get_name())\n",
    "print(st1.get_age())\n",
    "\n"
   ]
  },
  {
   "cell_type": "markdown",
   "metadata": {},
   "source": [
    "## 8"
   ]
  },
  {
   "cell_type": "code",
   "execution_count": 12,
   "metadata": {},
   "outputs": [
    {
     "name": "stdout",
     "output_type": "stream",
     "text": [
      "Dog is speaking\n",
      "Cat is speaking\n"
     ]
    }
   ],
   "source": [
    "class Animal:\n",
    "    def speak(self):\n",
    "        return \"Bird SPeaks\"\n",
    "    \n",
    "class Dog(Animal):\n",
    "    def speak(self):\n",
    "        return \"Dog is speaking\"\n",
    "    \n",
    "class Cat(Animal):\n",
    "    def speak(self):\n",
    "        return \"Cat is speaking\"\n",
    "    \n",
    "anim_list:list[Animal] = [Dog(), Cat()]\n",
    "\n",
    "for animal in anim_list:\n",
    "    print(animal.speak())\n"
   ]
  },
  {
   "cell_type": "markdown",
   "metadata": {},
   "source": [
    "## 9"
   ]
  },
  {
   "cell_type": "code",
   "execution_count": 18,
   "metadata": {},
   "outputs": [
    {
     "name": "stdout",
     "output_type": "stream",
     "text": [
      "salary is calculted here\n",
      "Part time salary is calculated here\n"
     ]
    }
   ],
   "source": [
    "from abc import ABC, abstractmethod\n",
    "class Employee(ABC):\n",
    "    @abstractmethod\n",
    "    def calculate_salary(self):\n",
    "        pass\n",
    "\n",
    "class FullTimeEmployee(Employee):\n",
    "    def calculate_salary(self):\n",
    "        return \"salary is calculted here\"\n",
    "    \n",
    "class PartTimeEmployee(Employee):\n",
    "    def calculate_salary(self):\n",
    "        return \"Part time salary is calculated here\"\n",
    "    \n",
    "\n",
    "ft = FullTimeEmployee()\n",
    "pt = PartTimeEmployee()\n",
    "\n",
    "print(ft.calculate_salary())\n",
    "print(pt.calculate_salary())\n",
    "    \n"
   ]
  },
  {
   "cell_type": "markdown",
   "metadata": {},
   "source": [
    "## 10\n"
   ]
  },
  {
   "cell_type": "code",
   "execution_count": 16,
   "metadata": {},
   "outputs": [
    {
     "name": "stdout",
     "output_type": "stream",
     "text": [
      "101\n",
      "202\n",
      "Laptop\n",
      "PC\n",
      "80000\n",
      "100000\n"
     ]
    }
   ],
   "source": [
    "from dataclasses import dataclass,field\n",
    "\n",
    "@dataclass\n",
    "class Product:\n",
    "    productid: int = field(repr=False)\n",
    "    name:str = field(repr=False)\n",
    "    price:int = field(repr=False)\n",
    "\n",
    "\n",
    "    def set_productid(self,id):\n",
    "        self.productid = id\n",
    "    def get_productid(self):\n",
    "        return self.productid\n",
    "    def set_name(self,name):\n",
    "        self.name = name\n",
    "    def get_name(self):\n",
    "        return self.name\n",
    "    def set_price(self,amount):\n",
    "        self.price = amount\n",
    "    def get_price(self):\n",
    "        return self.price\n",
    "    \n",
    "product1 = Product(101, \"Laptop\", 80000)\n",
    "\n",
    "print(product1.get_productid())\n",
    "product1.set_productid(202)\n",
    "print(product1.get_productid())\n",
    "print(product1.get_name())\n",
    "product1.set_name(\"PC\")\n",
    "print(product1.get_name())\n",
    "print(product1.get_price())\n",
    "product1.set_price(100000)\n",
    "print(product1.get_price())\n",
    "\n",
    "    "
   ]
  },
  {
   "cell_type": "markdown",
   "metadata": {},
   "source": [
    "## 11"
   ]
  },
  {
   "cell_type": "code",
   "execution_count": 18,
   "metadata": {},
   "outputs": [
    {
     "name": "stdout",
     "output_type": "stream",
     "text": [
      "2 , 3\n",
      "3 , 4\n",
      "(5, 7)\n"
     ]
    }
   ],
   "source": [
    "class Vector:\n",
    "    def __init__(self,x,y):\n",
    "        self.x = x\n",
    "        self.y = y\n",
    "\n",
    "    def __add__(self,vector2):\n",
    "        # return f\"Two vectors were added, result vector: {self.x + vector2.x}, {self.y + vector2.y}\"\n",
    "        return Vector(self.x+vector2.x, self.y+vector2.y)\n",
    "    def __str__(self):\n",
    "        return f\"({self.x}, {self.y})\"\n",
    "\n",
    "vect1 = Vector(2,3)\n",
    "print(vect1.x,\",\", vect1.y)\n",
    "vect2 = Vector(3,4)\n",
    "print(vect2.x,\",\", vect2.y)\n",
    "\n",
    "vect3 = vect1 + vect2\n",
    "print(vect3)\n",
    "    "
   ]
  },
  {
   "cell_type": "markdown",
   "metadata": {},
   "source": [
    "## 12"
   ]
  },
  {
   "cell_type": "code",
   "execution_count": null,
   "metadata": {},
   "outputs": [
    {
     "name": "stdout",
     "output_type": "stream",
     "text": [
      "Washing Machine Power: 750\n",
      "Refrigerator Power: 600\n"
     ]
    }
   ],
   "source": [
    "from abc import ABC, abstractmethod\n",
    "class Appliance(ABC):\n",
    "    @property\n",
    "    @abstractmethod\n",
    "\n",
    "    def power(self):\n",
    "        pass\n",
    "\n",
    "    @power.setter\n",
    "    @abstractmethod\n",
    "    def power(self,value):\n",
    "        pass\n",
    "\n",
    "class WashingMachine(Appliance):\n",
    "    def __init__(self,power):\n",
    "        self._power = power  \n",
    "\n",
    "    @property\n",
    "    def power(self):\n",
    "        return self._power\n",
    "    \n",
    "    @power.setter\n",
    "    def power(self,value):\n",
    "        self._power = value\n",
    "\n",
    "class Refrigerator(Appliance):\n",
    "    def __init__(self,power):\n",
    "        self._power = power\n",
    "    @property\n",
    "    def power(self):\n",
    "        return self._power\n",
    "    \n",
    "    @power.setter\n",
    "    def power(self,value):\n",
    "        self._power = value\n",
    "    \n",
    "wm = WashingMachine(750)\n",
    "rf = Refrigerator(600)\n",
    "\n",
    "print(f\"Washing Machine Power: {wm.power}\")\n",
    "print(f\"Refrigerator Power: {rf.power}\")\n",
    "    "
   ]
  },
  {
   "cell_type": "markdown",
   "metadata": {},
   "source": [
    "##13"
   ]
  },
  {
   "cell_type": "code",
   "execution_count": 11,
   "metadata": {},
   "outputs": [
    {
     "name": "stdout",
     "output_type": "stream",
     "text": [
      "50000\n",
      "None\n",
      "100000\n",
      "12345\n",
      "0.8\n"
     ]
    }
   ],
   "source": [
    "class Account:\n",
    "    def __init__(self,account_number:int,balance:int):\n",
    "        self.__account_number = account_number\n",
    "        self.__balance = balance\n",
    "\n",
    "    def set_balance(self,amount:int):\n",
    "        if amount >0:\n",
    "            self.__balance = amount\n",
    "        else:\n",
    "            return f\"{amount} can't be set as amount\"\n",
    "    def get_balance(self):\n",
    "        return self.__balance\n",
    "\n",
    "    def get_account_number(self):\n",
    "        return self.__account_number\n",
    "class SavingsAccount(Account):\n",
    "    def __init__(self,account_number,balance,interest_rate):\n",
    "        self.interest_rate = interest_rate\n",
    "        super().__init__(account_number, balance)\n",
    "\n",
    "\n",
    "\n",
    "acc1 = SavingsAccount(12345,50000,0.8)\n",
    "\n",
    "print(acc1.get_balance())\n",
    "print(acc1.set_balance(100000))\n",
    "print(acc1.get_balance())\n",
    "print(acc1.get_account_number())\n",
    "print(acc1.interest_rate)"
   ]
  },
  {
   "cell_type": "markdown",
   "metadata": {},
   "source": [
    "##14"
   ]
  },
  {
   "cell_type": "code",
   "execution_count": 12,
   "metadata": {},
   "outputs": [
    {
     "data": {
      "text/plain": [
       "'Engineer is working'"
      ]
     },
     "execution_count": 12,
     "metadata": {},
     "output_type": "execute_result"
    }
   ],
   "source": [
    "from abc import ABC, abstractmethod\n",
    "\n",
    "class Worker(ABC):\n",
    "    @abstractmethod\n",
    "    def work(self):\n",
    "        pass\n",
    "\n",
    "class Engineer(Worker):\n",
    "    def work(self):\n",
    "        return \"Engineer is working\"\n",
    "    \n",
    "class Doctor(Worker):\n",
    "    def work(self):\n",
    "        return \"Doctor is Working\"\n",
    "    \n",
    "class Scientist(Engineer,Doctor):\n",
    "    pass\n",
    "\n",
    "sc1 =Scientist()\n",
    "sc1.work()"
   ]
  }
 ],
 "metadata": {
  "kernelspec": {
   "display_name": "Python 3",
   "language": "python",
   "name": "python3"
  },
  "language_info": {
   "codemirror_mode": {
    "name": "ipython",
    "version": 3
   },
   "file_extension": ".py",
   "mimetype": "text/x-python",
   "name": "python",
   "nbconvert_exporter": "python",
   "pygments_lexer": "ipython3",
   "version": "3.11.4"
  }
 },
 "nbformat": 4,
 "nbformat_minor": 2
}
